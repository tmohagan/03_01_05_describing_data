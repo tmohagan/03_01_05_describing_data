{
 "cells": [
  {
   "cell_type": "markdown",
   "metadata": {},
   "source": [
    "1."
   ]
  },
  {
   "cell_type": "markdown",
   "metadata": {},
   "source": [
    "ages = 6, 8, 8, 10, 11, 12, 14\n",
    "\n",
    "mean = (6+8+8+10+11+12+14)/7 = 9.86\n",
    "median = 10\n",
    "mode = 8\n",
    "variance = sum((x - mean) ** 2) / (n - 1)\n",
    "         = sum((x - 9.86) ** 2) / (6)\n",
    "standard deviation = v ** 0.5\n",
    "standard error = s / (n ** 0.5)\n",
    "               = s / (7 ** 0.5)"
   ]
  },
  {
   "cell_type": "code",
   "execution_count": 1,
   "metadata": {},
   "outputs": [],
   "source": [
    "import pandas as pd\n",
    "import numpy as np\n",
    "import statistics"
   ]
  },
  {
   "cell_type": "code",
   "execution_count": 2,
   "metadata": {},
   "outputs": [],
   "source": [
    "df_brady = pd.DataFrame()\n",
    "df_brady['age'] = [6, 8, 8, 10, 11, 12, 14]"
   ]
  },
  {
   "cell_type": "code",
   "execution_count": 6,
   "metadata": {},
   "outputs": [
    {
     "name": "stdout",
     "output_type": "stream",
     "text": [
      "mean:  9.857142857142858\n",
      "median 10.0\n",
      "mode:  8\n",
      "variance:  7.476190476190475\n",
      "standard deviation:  2.734262327610589\n",
      "standard error:  1.0334540197243192\n"
     ]
    }
   ],
   "source": [
    "print(\"mean: \",np.mean(df_brady['age']))\n",
    "print(\"median\",np.median(df_brady['age']))\n",
    "print(\"mode: \",statistics.mode(df_brady['age']))\n",
    "print(\"variance: \", df_brady['age'].var())\n",
    "print(\"standard deviation: \",np.std(df_brady['age'], ddof=1))\n",
    "print(\"standard error: \",np.std(df_brady['age'] ,ddof=1) / np.sqrt(len(df_brady['age'])))"
   ]
  },
  {
   "cell_type": "markdown",
   "metadata": {},
   "source": [
    "2."
   ]
  },
  {
   "cell_type": "markdown",
   "metadata": {},
   "source": [
    "estimate of central tendency: 9.857142857142858\n",
    "estimate of variance: 2.734262327610589"
   ]
  },
  {
   "cell_type": "markdown",
   "metadata": {},
   "source": [
    "3."
   ]
  },
  {
   "cell_type": "markdown",
   "metadata": {},
   "source": [
    "What changes if Cindy goes from 6 to 7?"
   ]
  },
  {
   "cell_type": "code",
   "execution_count": 7,
   "metadata": {},
   "outputs": [
    {
     "name": "stdout",
     "output_type": "stream",
     "text": [
      "mean:  10.0\n",
      "median 10.0\n",
      "mode:  8\n",
      "variance:  6.333333333333333\n",
      "standard deviation:  2.516611478423583\n",
      "standard error:  0.9511897312113418\n"
     ]
    }
   ],
   "source": [
    "df_brady['age'] = [7, 8, 8, 10, 11, 12, 14]\n",
    "print(\"mean: \",np.mean(df_brady['age']))\n",
    "print(\"median\",np.median(df_brady['age']))\n",
    "print(\"mode: \",statistics.mode(df_brady['age']))\n",
    "print(\"variance: \", df_brady['age'].var())\n",
    "print(\"standard deviation: \",np.std(df_brady['age'], ddof=1))\n",
    "print(\"standard error: \",np.std(df_brady['age'] ,ddof=1) / np.sqrt(len(df_brady['age'])))"
   ]
  },
  {
   "cell_type": "markdown",
   "metadata": {},
   "source": [
    "If Cindy changes from 6 to 7, then all the numbers get closer together. \n",
    "The mean goes up and variance, std, and std error get lower."
   ]
  },
  {
   "cell_type": "markdown",
   "metadata": {},
   "source": [
    "4."
   ]
  },
  {
   "cell_type": "markdown",
   "metadata": {},
   "source": [
    "What changes if one of the 8's is replaced with a 1?\n",
    "Does this change the central tendency or variance estimation methods?"
   ]
  },
  {
   "cell_type": "code",
   "execution_count": 10,
   "metadata": {},
   "outputs": [
    {
     "name": "stdout",
     "output_type": "stream",
     "text": [
      "mean:  9.0\n",
      "median 10.0\n",
      "variance:  18.0\n",
      "standard deviation:  4.242640687119285\n",
      "standard error:  1.6035674514745462\n"
     ]
    }
   ],
   "source": [
    "df_brady['age'] = [7, 1, 8, 10, 11, 12, 14]\n",
    "print(\"mean: \",np.mean(df_brady['age']))\n",
    "print(\"median\",np.median(df_brady['age']))\n",
    "# print(\"mode: \",statistics.mode(df_brady['age']))\n",
    "print(\"variance: \", df_brady['age'].var())\n",
    "print(\"standard deviation: \",np.std(df_brady['age'], ddof=1))\n",
    "print(\"standard error: \",np.std(df_brady['age'] ,ddof=1) / np.sqrt(len(df_brady['age'])))"
   ]
  },
  {
   "cell_type": "markdown",
   "metadata": {},
   "source": [
    "Yes, the central tendency and variance estimation will be very different because 8 was close to the mean.  But changing it to a 1 will throw everything way off. "
   ]
  },
  {
   "cell_type": "markdown",
   "metadata": {},
   "source": [
    "5."
   ]
  },
  {
   "cell_type": "markdown",
   "metadata": {},
   "source": [
    "20%, 23%, 17%, 5%, were fans\n",
    "What total percentage were fans?"
   ]
  },
  {
   "cell_type": "code",
   "execution_count": 14,
   "metadata": {},
   "outputs": [
    {
     "name": "stdout",
     "output_type": "stream",
     "text": [
      "The overal average percentage of fans was 18.5\n"
     ]
    }
   ],
   "source": [
    "df_rating = pd.DataFrame()\n",
    "df_rating['approval'] = [20, 23, 17, 5]\n",
    "print(\"The overal average percentage of fans was\",np.median(df_rating['approval']))\n",
    "\n"
   ]
  },
  {
   "cell_type": "code",
   "execution_count": 22,
   "metadata": {},
   "outputs": [
    {
     "name": "stdout",
     "output_type": "stream",
     "text": [
      "The overal average percentage of fans from non-special intrest sources was 20.0\n"
     ]
    }
   ],
   "source": [
    "df_adj_rating = pd.DataFrame()\n",
    "df_adj_rating['approval'] = [20, 23, 17]\n",
    "print(\"The overal average percentage of fans from non-special intrest sources was\",np.median(df_adj_rating['approval']))\n"
   ]
  },
  {
   "cell_type": "code",
   "execution_count": null,
   "metadata": {},
   "outputs": [],
   "source": []
  }
 ],
 "metadata": {
  "kernelspec": {
   "display_name": "Python 3",
   "language": "python",
   "name": "python3"
  },
  "language_info": {
   "codemirror_mode": {
    "name": "ipython",
    "version": 3
   },
   "file_extension": ".py",
   "mimetype": "text/x-python",
   "name": "python",
   "nbconvert_exporter": "python",
   "pygments_lexer": "ipython3",
   "version": "3.6.5"
  }
 },
 "nbformat": 4,
 "nbformat_minor": 2
}
